{
  "nbformat": 4,
  "nbformat_minor": 0,
  "metadata": {
    "colab": {
      "provenance": [],
      "gpuType": "T4"
    },
    "kernelspec": {
      "name": "python3",
      "display_name": "Python 3"
    },
    "language_info": {
      "name": "python"
    },
    "accelerator": "GPU"
  },
  "cells": [
    {
      "cell_type": "markdown",
      "source": [
        "Mount from google drive"
      ],
      "metadata": {
        "id": "00CoH2kAZIbz"
      }
    },
    {
      "cell_type": "code",
      "source": [
        "from google.colab import drive\n",
        "drive.mount('/content/drive')"
      ],
      "metadata": {
        "id": "eUyQAnnaZMqk",
        "colab": {
          "base_uri": "https://localhost:8080/"
        },
        "outputId": "a046668b-31b4-4b5c-bf6a-9307fecdcb5d"
      },
      "execution_count": 1,
      "outputs": [
        {
          "output_type": "stream",
          "name": "stdout",
          "text": [
            "Mounted at /content/drive\n"
          ]
        }
      ]
    },
    {
      "cell_type": "markdown",
      "source": [
        "Check the location where model is saved"
      ],
      "metadata": {
        "id": "gkczgctFcA6O"
      }
    },
    {
      "cell_type": "code",
      "source": [
        "!ls \"/content/drive/My Drive/MCQ Question Generation/saved_model\""
      ],
      "metadata": {
        "id": "xhWihR0ucGXO",
        "colab": {
          "base_uri": "https://localhost:8080/"
        },
        "outputId": "edee1ba7-5cd5-4986-858e-01f859441f81"
      },
      "execution_count": 2,
      "outputs": [
        {
          "output_type": "stream",
          "name": "stdout",
          "text": [
            "config.json\t\tmodel.safetensors\t tokenizer_config.json\n",
            "generation_config.json\tspecial_tokens_map.json  tokenizer.json\n"
          ]
        }
      ]
    },
    {
      "cell_type": "markdown",
      "source": [
        "Install Necessary Libraries"
      ],
      "metadata": {
        "id": "tbiQq7ioZPKD"
      }
    },
    {
      "cell_type": "code",
      "source": [
        "!pip install transformers torch flask flask-cors accelerate"
      ],
      "metadata": {
        "id": "IGF3Rna9ZSjb",
        "colab": {
          "base_uri": "https://localhost:8080/"
        },
        "outputId": "f61af56d-5912-4208-b391-270b6a3c4867"
      },
      "execution_count": 3,
      "outputs": [
        {
          "output_type": "stream",
          "name": "stdout",
          "text": [
            "Requirement already satisfied: transformers in /usr/local/lib/python3.11/dist-packages (4.48.3)\n",
            "Requirement already satisfied: torch in /usr/local/lib/python3.11/dist-packages (2.5.1+cu124)\n",
            "Requirement already satisfied: flask in /usr/local/lib/python3.11/dist-packages (3.1.0)\n",
            "Collecting flask-cors\n",
            "  Downloading flask_cors-5.0.1-py3-none-any.whl.metadata (961 bytes)\n",
            "Requirement already satisfied: accelerate in /usr/local/lib/python3.11/dist-packages (1.3.0)\n",
            "Requirement already satisfied: filelock in /usr/local/lib/python3.11/dist-packages (from transformers) (3.17.0)\n",
            "Requirement already satisfied: huggingface-hub<1.0,>=0.24.0 in /usr/local/lib/python3.11/dist-packages (from transformers) (0.28.1)\n",
            "Requirement already satisfied: numpy>=1.17 in /usr/local/lib/python3.11/dist-packages (from transformers) (1.26.4)\n",
            "Requirement already satisfied: packaging>=20.0 in /usr/local/lib/python3.11/dist-packages (from transformers) (24.2)\n",
            "Requirement already satisfied: pyyaml>=5.1 in /usr/local/lib/python3.11/dist-packages (from transformers) (6.0.2)\n",
            "Requirement already satisfied: regex!=2019.12.17 in /usr/local/lib/python3.11/dist-packages (from transformers) (2024.11.6)\n",
            "Requirement already satisfied: requests in /usr/local/lib/python3.11/dist-packages (from transformers) (2.32.3)\n",
            "Requirement already satisfied: tokenizers<0.22,>=0.21 in /usr/local/lib/python3.11/dist-packages (from transformers) (0.21.0)\n",
            "Requirement already satisfied: safetensors>=0.4.1 in /usr/local/lib/python3.11/dist-packages (from transformers) (0.5.3)\n",
            "Requirement already satisfied: tqdm>=4.27 in /usr/local/lib/python3.11/dist-packages (from transformers) (4.67.1)\n",
            "Requirement already satisfied: typing-extensions>=4.8.0 in /usr/local/lib/python3.11/dist-packages (from torch) (4.12.2)\n",
            "Requirement already satisfied: networkx in /usr/local/lib/python3.11/dist-packages (from torch) (3.4.2)\n",
            "Requirement already satisfied: jinja2 in /usr/local/lib/python3.11/dist-packages (from torch) (3.1.5)\n",
            "Requirement already satisfied: fsspec in /usr/local/lib/python3.11/dist-packages (from torch) (2024.10.0)\n",
            "Collecting nvidia-cuda-nvrtc-cu12==12.4.127 (from torch)\n",
            "  Downloading nvidia_cuda_nvrtc_cu12-12.4.127-py3-none-manylinux2014_x86_64.whl.metadata (1.5 kB)\n",
            "Collecting nvidia-cuda-runtime-cu12==12.4.127 (from torch)\n",
            "  Downloading nvidia_cuda_runtime_cu12-12.4.127-py3-none-manylinux2014_x86_64.whl.metadata (1.5 kB)\n",
            "Collecting nvidia-cuda-cupti-cu12==12.4.127 (from torch)\n",
            "  Downloading nvidia_cuda_cupti_cu12-12.4.127-py3-none-manylinux2014_x86_64.whl.metadata (1.6 kB)\n",
            "Collecting nvidia-cudnn-cu12==9.1.0.70 (from torch)\n",
            "  Downloading nvidia_cudnn_cu12-9.1.0.70-py3-none-manylinux2014_x86_64.whl.metadata (1.6 kB)\n",
            "Collecting nvidia-cublas-cu12==12.4.5.8 (from torch)\n",
            "  Downloading nvidia_cublas_cu12-12.4.5.8-py3-none-manylinux2014_x86_64.whl.metadata (1.5 kB)\n",
            "Collecting nvidia-cufft-cu12==11.2.1.3 (from torch)\n",
            "  Downloading nvidia_cufft_cu12-11.2.1.3-py3-none-manylinux2014_x86_64.whl.metadata (1.5 kB)\n",
            "Collecting nvidia-curand-cu12==10.3.5.147 (from torch)\n",
            "  Downloading nvidia_curand_cu12-10.3.5.147-py3-none-manylinux2014_x86_64.whl.metadata (1.5 kB)\n",
            "Collecting nvidia-cusolver-cu12==11.6.1.9 (from torch)\n",
            "  Downloading nvidia_cusolver_cu12-11.6.1.9-py3-none-manylinux2014_x86_64.whl.metadata (1.6 kB)\n",
            "Collecting nvidia-cusparse-cu12==12.3.1.170 (from torch)\n",
            "  Downloading nvidia_cusparse_cu12-12.3.1.170-py3-none-manylinux2014_x86_64.whl.metadata (1.6 kB)\n",
            "Requirement already satisfied: nvidia-nccl-cu12==2.21.5 in /usr/local/lib/python3.11/dist-packages (from torch) (2.21.5)\n",
            "Requirement already satisfied: nvidia-nvtx-cu12==12.4.127 in /usr/local/lib/python3.11/dist-packages (from torch) (12.4.127)\n",
            "Collecting nvidia-nvjitlink-cu12==12.4.127 (from torch)\n",
            "  Downloading nvidia_nvjitlink_cu12-12.4.127-py3-none-manylinux2014_x86_64.whl.metadata (1.5 kB)\n",
            "Requirement already satisfied: triton==3.1.0 in /usr/local/lib/python3.11/dist-packages (from torch) (3.1.0)\n",
            "Requirement already satisfied: sympy==1.13.1 in /usr/local/lib/python3.11/dist-packages (from torch) (1.13.1)\n",
            "Requirement already satisfied: mpmath<1.4,>=1.1.0 in /usr/local/lib/python3.11/dist-packages (from sympy==1.13.1->torch) (1.3.0)\n",
            "Requirement already satisfied: Werkzeug>=3.1 in /usr/local/lib/python3.11/dist-packages (from flask) (3.1.3)\n",
            "Requirement already satisfied: itsdangerous>=2.2 in /usr/local/lib/python3.11/dist-packages (from flask) (2.2.0)\n",
            "Requirement already satisfied: click>=8.1.3 in /usr/local/lib/python3.11/dist-packages (from flask) (8.1.8)\n",
            "Requirement already satisfied: blinker>=1.9 in /usr/local/lib/python3.11/dist-packages (from flask) (1.9.0)\n",
            "Requirement already satisfied: psutil in /usr/local/lib/python3.11/dist-packages (from accelerate) (5.9.5)\n",
            "Requirement already satisfied: MarkupSafe>=2.0 in /usr/local/lib/python3.11/dist-packages (from jinja2->torch) (3.0.2)\n",
            "Requirement already satisfied: charset-normalizer<4,>=2 in /usr/local/lib/python3.11/dist-packages (from requests->transformers) (3.4.1)\n",
            "Requirement already satisfied: idna<4,>=2.5 in /usr/local/lib/python3.11/dist-packages (from requests->transformers) (3.10)\n",
            "Requirement already satisfied: urllib3<3,>=1.21.1 in /usr/local/lib/python3.11/dist-packages (from requests->transformers) (2.3.0)\n",
            "Requirement already satisfied: certifi>=2017.4.17 in /usr/local/lib/python3.11/dist-packages (from requests->transformers) (2025.1.31)\n",
            "Downloading nvidia_cublas_cu12-12.4.5.8-py3-none-manylinux2014_x86_64.whl (363.4 MB)\n",
            "\u001b[2K   \u001b[90m━━━━━━━━━━━━━━━━━━━━━━━━━━━━━━━━━━━━━━━━\u001b[0m \u001b[32m363.4/363.4 MB\u001b[0m \u001b[31m1.4 MB/s\u001b[0m eta \u001b[36m0:00:00\u001b[0m\n",
            "\u001b[?25hDownloading nvidia_cuda_cupti_cu12-12.4.127-py3-none-manylinux2014_x86_64.whl (13.8 MB)\n",
            "\u001b[2K   \u001b[90m━━━━━━━━━━━━━━━━━━━━━━━━━━━━━━━━━━━━━━━━\u001b[0m \u001b[32m13.8/13.8 MB\u001b[0m \u001b[31m93.9 MB/s\u001b[0m eta \u001b[36m0:00:00\u001b[0m\n",
            "\u001b[?25hDownloading nvidia_cuda_nvrtc_cu12-12.4.127-py3-none-manylinux2014_x86_64.whl (24.6 MB)\n",
            "\u001b[2K   \u001b[90m━━━━━━━━━━━━━━━━━━━━━━━━━━━━━━━━━━━━━━━━\u001b[0m \u001b[32m24.6/24.6 MB\u001b[0m \u001b[31m69.2 MB/s\u001b[0m eta \u001b[36m0:00:00\u001b[0m\n",
            "\u001b[?25hDownloading nvidia_cuda_runtime_cu12-12.4.127-py3-none-manylinux2014_x86_64.whl (883 kB)\n",
            "\u001b[2K   \u001b[90m━━━━━━━━━━━━━━━━━━━━━━━━━━━━━━━━━━━━━━━━\u001b[0m \u001b[32m883.7/883.7 kB\u001b[0m \u001b[31m55.3 MB/s\u001b[0m eta \u001b[36m0:00:00\u001b[0m\n",
            "\u001b[?25hDownloading nvidia_cudnn_cu12-9.1.0.70-py3-none-manylinux2014_x86_64.whl (664.8 MB)\n",
            "\u001b[2K   \u001b[90m━━━━━━━━━━━━━━━━━━━━━━━━━━━━━━━━━━━━━━━━\u001b[0m \u001b[32m664.8/664.8 MB\u001b[0m \u001b[31m2.6 MB/s\u001b[0m eta \u001b[36m0:00:00\u001b[0m\n",
            "\u001b[?25hDownloading nvidia_cufft_cu12-11.2.1.3-py3-none-manylinux2014_x86_64.whl (211.5 MB)\n",
            "\u001b[2K   \u001b[90m━━━━━━━━━━━━━━━━━━━━━━━━━━━━━━━━━━━━━━━━\u001b[0m \u001b[32m211.5/211.5 MB\u001b[0m \u001b[31m6.1 MB/s\u001b[0m eta \u001b[36m0:00:00\u001b[0m\n",
            "\u001b[?25hDownloading nvidia_curand_cu12-10.3.5.147-py3-none-manylinux2014_x86_64.whl (56.3 MB)\n",
            "\u001b[2K   \u001b[90m━━━━━━━━━━━━━━━━━━━━━━━━━━━━━━━━━━━━━━━━\u001b[0m \u001b[32m56.3/56.3 MB\u001b[0m \u001b[31m12.2 MB/s\u001b[0m eta \u001b[36m0:00:00\u001b[0m\n",
            "\u001b[?25hDownloading nvidia_cusolver_cu12-11.6.1.9-py3-none-manylinux2014_x86_64.whl (127.9 MB)\n",
            "\u001b[2K   \u001b[90m━━━━━━━━━━━━━━━━━━━━━━━━━━━━━━━━━━━━━━━━\u001b[0m \u001b[32m127.9/127.9 MB\u001b[0m \u001b[31m7.3 MB/s\u001b[0m eta \u001b[36m0:00:00\u001b[0m\n",
            "\u001b[?25hDownloading nvidia_cusparse_cu12-12.3.1.170-py3-none-manylinux2014_x86_64.whl (207.5 MB)\n",
            "\u001b[2K   \u001b[90m━━━━━━━━━━━━━━━━━━━━━━━━━━━━━━━━━━━━━━━━\u001b[0m \u001b[32m207.5/207.5 MB\u001b[0m \u001b[31m5.6 MB/s\u001b[0m eta \u001b[36m0:00:00\u001b[0m\n",
            "\u001b[?25hDownloading nvidia_nvjitlink_cu12-12.4.127-py3-none-manylinux2014_x86_64.whl (21.1 MB)\n",
            "\u001b[2K   \u001b[90m━━━━━━━━━━━━━━━━━━━━━━━━━━━━━━━━━━━━━━━━\u001b[0m \u001b[32m21.1/21.1 MB\u001b[0m \u001b[31m80.9 MB/s\u001b[0m eta \u001b[36m0:00:00\u001b[0m\n",
            "\u001b[?25hDownloading flask_cors-5.0.1-py3-none-any.whl (11 kB)\n",
            "Installing collected packages: nvidia-nvjitlink-cu12, nvidia-curand-cu12, nvidia-cufft-cu12, nvidia-cuda-runtime-cu12, nvidia-cuda-nvrtc-cu12, nvidia-cuda-cupti-cu12, nvidia-cublas-cu12, nvidia-cusparse-cu12, nvidia-cudnn-cu12, nvidia-cusolver-cu12, flask-cors\n",
            "  Attempting uninstall: nvidia-nvjitlink-cu12\n",
            "    Found existing installation: nvidia-nvjitlink-cu12 12.5.82\n",
            "    Uninstalling nvidia-nvjitlink-cu12-12.5.82:\n",
            "      Successfully uninstalled nvidia-nvjitlink-cu12-12.5.82\n",
            "  Attempting uninstall: nvidia-curand-cu12\n",
            "    Found existing installation: nvidia-curand-cu12 10.3.6.82\n",
            "    Uninstalling nvidia-curand-cu12-10.3.6.82:\n",
            "      Successfully uninstalled nvidia-curand-cu12-10.3.6.82\n",
            "  Attempting uninstall: nvidia-cufft-cu12\n",
            "    Found existing installation: nvidia-cufft-cu12 11.2.3.61\n",
            "    Uninstalling nvidia-cufft-cu12-11.2.3.61:\n",
            "      Successfully uninstalled nvidia-cufft-cu12-11.2.3.61\n",
            "  Attempting uninstall: nvidia-cuda-runtime-cu12\n",
            "    Found existing installation: nvidia-cuda-runtime-cu12 12.5.82\n",
            "    Uninstalling nvidia-cuda-runtime-cu12-12.5.82:\n",
            "      Successfully uninstalled nvidia-cuda-runtime-cu12-12.5.82\n",
            "  Attempting uninstall: nvidia-cuda-nvrtc-cu12\n",
            "    Found existing installation: nvidia-cuda-nvrtc-cu12 12.5.82\n",
            "    Uninstalling nvidia-cuda-nvrtc-cu12-12.5.82:\n",
            "      Successfully uninstalled nvidia-cuda-nvrtc-cu12-12.5.82\n",
            "  Attempting uninstall: nvidia-cuda-cupti-cu12\n",
            "    Found existing installation: nvidia-cuda-cupti-cu12 12.5.82\n",
            "    Uninstalling nvidia-cuda-cupti-cu12-12.5.82:\n",
            "      Successfully uninstalled nvidia-cuda-cupti-cu12-12.5.82\n",
            "  Attempting uninstall: nvidia-cublas-cu12\n",
            "    Found existing installation: nvidia-cublas-cu12 12.5.3.2\n",
            "    Uninstalling nvidia-cublas-cu12-12.5.3.2:\n",
            "      Successfully uninstalled nvidia-cublas-cu12-12.5.3.2\n",
            "  Attempting uninstall: nvidia-cusparse-cu12\n",
            "    Found existing installation: nvidia-cusparse-cu12 12.5.1.3\n",
            "    Uninstalling nvidia-cusparse-cu12-12.5.1.3:\n",
            "      Successfully uninstalled nvidia-cusparse-cu12-12.5.1.3\n",
            "  Attempting uninstall: nvidia-cudnn-cu12\n",
            "    Found existing installation: nvidia-cudnn-cu12 9.3.0.75\n",
            "    Uninstalling nvidia-cudnn-cu12-9.3.0.75:\n",
            "      Successfully uninstalled nvidia-cudnn-cu12-9.3.0.75\n",
            "  Attempting uninstall: nvidia-cusolver-cu12\n",
            "    Found existing installation: nvidia-cusolver-cu12 11.6.3.83\n",
            "    Uninstalling nvidia-cusolver-cu12-11.6.3.83:\n",
            "      Successfully uninstalled nvidia-cusolver-cu12-11.6.3.83\n",
            "Successfully installed flask-cors-5.0.1 nvidia-cublas-cu12-12.4.5.8 nvidia-cuda-cupti-cu12-12.4.127 nvidia-cuda-nvrtc-cu12-12.4.127 nvidia-cuda-runtime-cu12-12.4.127 nvidia-cudnn-cu12-9.1.0.70 nvidia-cufft-cu12-11.2.1.3 nvidia-curand-cu12-10.3.5.147 nvidia-cusolver-cu12-11.6.1.9 nvidia-cusparse-cu12-12.3.1.170 nvidia-nvjitlink-cu12-12.4.127\n"
          ]
        }
      ]
    },
    {
      "cell_type": "markdown",
      "source": [
        "Load the model"
      ],
      "metadata": {
        "id": "nnbE4KzFb72v"
      }
    },
    {
      "cell_type": "code",
      "source": [
        "from transformers import AutoModelForCausalLM, AutoTokenizer\n",
        "import torch\n",
        "\n",
        "# Path to your fine-tuned model\n",
        "model_path = \"/content/drive/My Drive/MCQ Question Generation/saved_model\"\n",
        "\n",
        "# Load tokenizer and model\n",
        "tokenizer = AutoTokenizer.from_pretrained(model_path)\n",
        "model = AutoModelForCausalLM.from_pretrained(model_path, torch_dtype=torch.float16, device_map=\"auto\").cuda()\n",
        "\n",
        "print(\"Model Loaded Successfully!\")"
      ],
      "metadata": {
        "id": "iFwE4ZQncVDK",
        "colab": {
          "base_uri": "https://localhost:8080/"
        },
        "outputId": "d0b0bed3-232e-4e65-9839-5c7718d6f2a1"
      },
      "execution_count": null,
      "outputs": [
        {
          "output_type": "stream",
          "name": "stderr",
          "text": [
            "Unrecognized keys in `rope_scaling` for 'rope_type'='llama3': {'name'}\n"
          ]
        },
        {
          "output_type": "stream",
          "name": "stdout",
          "text": [
            "Model Loaded Successfully!\n"
          ]
        }
      ]
    },
    {
      "cell_type": "markdown",
      "source": [
        "Write mcq_server.py to generate questions using the model"
      ],
      "metadata": {
        "id": "L-BoESS_cin-"
      }
    },
    {
      "cell_type": "code",
      "source": [
        "%%writefile mcq_server.py\n",
        "from flask import Flask, request, jsonify\n",
        "from flask_cors import CORS\n",
        "from transformers import AutoModelForCausalLM, AutoTokenizer\n",
        "import torch\n",
        "import re\n",
        "import random\n",
        "\n",
        "# Initialize Flask App\n",
        "app = Flask(__name__)\n",
        "CORS(app)\n",
        "\n",
        "# Load Fine-Tuned Model from Google Drive\n",
        "model_path = \"/content/drive/My Drive/MCQ Question Generation/saved_model\"\n",
        "\n",
        "try:\n",
        "    tokenizer = AutoTokenizer.from_pretrained(model_path)\n",
        "    model = AutoModelForCausalLM.from_pretrained(model_path, torch_dtype=torch.float16, device_map=\"auto\").cuda()\n",
        "    print(\"✅ Model Loaded Successfully!\")\n",
        "except Exception as e:\n",
        "    print(f\"🔥 Error Loading Model: {e}\")\n",
        "\n",
        "# 🔥 Function to Extract MCQ\n",
        "def extract_mcq(prompt, generated_text):\n",
        "    \"\"\" Extracts the MCQ content (Question, Options A-E, Correct Answer) from model output. \"\"\"\n",
        "    generated_text = generated_text.replace(prompt, \"\").strip()\n",
        "    lines = [line.strip() for line in generated_text.split(\"\\n\") if line.strip()]\n",
        "\n",
        "    question = None\n",
        "    options = {}\n",
        "    correct_answer = None\n",
        "\n",
        "    for line in lines:\n",
        "        # Extract question\n",
        "        if not question and re.match(r\"^Question:\\s*(.*)\", line, re.IGNORECASE):\n",
        "            question = re.match(r\"^Question:\\s*(.*)\", line, re.IGNORECASE).group(1).strip()\n",
        "\n",
        "        # Extract options (A-E)\n",
        "        elif re.match(r\"^[A-E]\\)\", line):\n",
        "            option_letter = line[0]  # Extracts \"A\", \"B\", etc.\n",
        "            option_text = line[3:].strip()\n",
        "            options[option_letter] = option_text\n",
        "\n",
        "        # Extract correct answer\n",
        "        elif re.search(r\"Correct Answer:\\s*([A-E])\", line, re.IGNORECASE):\n",
        "            correct_answer_match = re.search(r\"Correct Answer:\\s*([A-E])\", line, re.IGNORECASE)\n",
        "            if correct_answer_match:\n",
        "                correct_answer = correct_answer_match.group(1).strip()\n",
        "\n",
        "    # Ensure exactly 5 options\n",
        "    if len(options) != 5:\n",
        "        print(\"⚠ Invalid MCQ: Missing or duplicate answer choices.\")\n",
        "        return {\"error\": \"Invalid MCQ format - Missing or duplicate options\"}\n",
        "\n",
        "    # Validate correct answer\n",
        "    if correct_answer not in options:\n",
        "        print(\"⚠ Correct answer not found in options.\")\n",
        "        correct_answer = \"Unknown\"\n",
        "\n",
        "    if not question:\n",
        "        return {\"error\": \"Invalid MCQ format - Question missing\"}\n",
        "\n",
        "    return {\n",
        "        \"question\": question,\n",
        "        \"options\": options,\n",
        "        \"correct_answer\": correct_answer\n",
        "    }\n",
        "\n",
        "# 🔥 Route to Generate MCQ\n",
        "@app.route('/generate_mcq', methods=['POST'])\n",
        "def generate_mcq():\n",
        "    \"\"\"Generates an MCQ using the fine-tuned model and ensures a valid format.\"\"\"\n",
        "    try:\n",
        "        data = request.json\n",
        "        prompt_base = data.get(\"prompt\", \"Generate a multiple-choice question.\")\n",
        "\n",
        "        # **Randomized prompt phrasing**\n",
        "        prompt_variations = [\n",
        "            f\"{prompt_base}\",\n",
        "            f\"{prompt_base} Ensure clear question and answer choices.\",\n",
        "            f\"{prompt_base} Make sure the question is unique.\",\n",
        "            f\"{prompt_base} Ensure all 5 answers are distinct.\",\n",
        "            f\"{prompt_base} The correct answer must be one of the given choices.\"\n",
        "        ]\n",
        "        prompt = random.choice(prompt_variations)\n",
        "\n",
        "        print(f\"📩 Received Prompt: {prompt}\")\n",
        "\n",
        "        # **Generate output**\n",
        "        inputs = tokenizer(prompt, return_tensors=\"pt\").to(\"cuda\")\n",
        "        outputs = model.generate(\n",
        "            **inputs,\n",
        "            max_new_tokens=300,\n",
        "            pad_token_id=tokenizer.eos_token_id,\n",
        "            do_sample=True,\n",
        "            top_k=40,\n",
        "            top_p=0.92,\n",
        "            temperature=random.choice([0.7, 0.8, 0.9])  # ✅ Randomized temperature for unique output\n",
        "        )\n",
        "        generated_text = tokenizer.decode(outputs[0], skip_special_tokens=True)\n",
        "\n",
        "        # **Extract and validate MCQ**\n",
        "        mcq_data = extract_mcq(prompt, generated_text)\n",
        "\n",
        "        if \"error\" in mcq_data:\n",
        "            print(f\"⚠ Retrying due to error: {mcq_data['error']}\")\n",
        "            return generate_mcq()  # Retry if MCQ is invalid\n",
        "\n",
        "        print(f\"✅ Extracted MCQ:\\n{mcq_data}\")\n",
        "\n",
        "        return jsonify({\"mcq\": mcq_data})\n",
        "\n",
        "    except Exception as e:\n",
        "        print(f\"🔥 ERROR: {str(e)}\")\n",
        "        return jsonify({\"error\": str(e)}), 500\n",
        "\n",
        "# **🔥 Start Flask Server**\n",
        "if __name__ == '__main__':\n",
        "    app.run(host='0.0.0.0', port=5000, debug=True)\n"
      ],
      "metadata": {
        "colab": {
          "base_uri": "https://localhost:8080/"
        },
        "id": "vhPZxm-Med8k",
        "outputId": "07bb181c-d167-4619-ec6f-57f0e53d0b62"
      },
      "execution_count": 4,
      "outputs": [
        {
          "output_type": "stream",
          "name": "stdout",
          "text": [
            "Writing mcq_server.py\n"
          ]
        }
      ]
    },
    {
      "cell_type": "markdown",
      "source": [
        "Run the flask app inside the mcq_server.py file in the background"
      ],
      "metadata": {
        "id": "Vt8l-GoZc3Hj"
      }
    },
    {
      "cell_type": "code",
      "source": [
        "!nohup python3 mcq_server.py > flask_output.log 2>&1 &"
      ],
      "metadata": {
        "id": "6O-zcVl_c-v9"
      },
      "execution_count": 6,
      "outputs": []
    },
    {
      "cell_type": "markdown",
      "source": [
        "Save the ngrok autentication token to secrets"
      ],
      "metadata": {
        "id": "XcyAM6IAdD-j"
      }
    },
    {
      "cell_type": "code",
      "source": [
        "!ngrok authtoken 2tA1v9sv3quWDHtzTUepVLlL6Ka_372iA7FzbW7bYaphJ6QNA"
      ],
      "metadata": {
        "id": "fhs4JFLQdIM6",
        "colab": {
          "base_uri": "https://localhost:8080/"
        },
        "outputId": "86f45865-ae89-468f-dfaf-798569f72137"
      },
      "execution_count": 9,
      "outputs": [
        {
          "output_type": "stream",
          "name": "stdout",
          "text": [
            "Authtoken saved to configuration file: /root/.config/ngrok/ngrok.yml\n"
          ]
        }
      ]
    },
    {
      "cell_type": "markdown",
      "source": [
        "Install necessary ngrok library"
      ],
      "metadata": {
        "id": "mEuV-APZdMZr"
      }
    },
    {
      "cell_type": "code",
      "source": [
        "!pip install pyngrok\n",
        "from pyngrok import ngrok"
      ],
      "metadata": {
        "id": "l9-OjtUPdSdi",
        "colab": {
          "base_uri": "https://localhost:8080/"
        },
        "outputId": "63c3867c-65bd-4baa-8fb3-e9f6ec84fb0a"
      },
      "execution_count": 8,
      "outputs": [
        {
          "output_type": "stream",
          "name": "stdout",
          "text": [
            "Collecting pyngrok\n",
            "  Downloading pyngrok-7.2.3-py3-none-any.whl.metadata (8.7 kB)\n",
            "Requirement already satisfied: PyYAML>=5.1 in /usr/local/lib/python3.11/dist-packages (from pyngrok) (6.0.2)\n",
            "Downloading pyngrok-7.2.3-py3-none-any.whl (23 kB)\n",
            "Installing collected packages: pyngrok\n",
            "Successfully installed pyngrok-7.2.3\n"
          ]
        }
      ]
    },
    {
      "cell_type": "markdown",
      "source": [
        "Kill the ngrok process if any existing process running. And start a new url to get an API to localhost"
      ],
      "metadata": {
        "id": "u9DOQjRxdTOS"
      }
    },
    {
      "cell_type": "code",
      "source": [
        "ngrok.kill()\n",
        "public_url = ngrok.connect(\"5000\", \"http\")\n",
        "print(f\"🌍 Your API is available at: {public_url}\")"
      ],
      "metadata": {
        "id": "GsQ-nif8dg0S",
        "colab": {
          "base_uri": "https://localhost:8080/"
        },
        "outputId": "3e8ff363-db46-4e71-d7f1-6bf032ed024c"
      },
      "execution_count": 10,
      "outputs": [
        {
          "output_type": "stream",
          "name": "stdout",
          "text": [
            "🌍 Your API is available at: NgrokTunnel: \"https://dce8-34-16-168-90.ngrok-free.app\" -> \"http://localhost:5000\"\n"
          ]
        }
      ]
    },
    {
      "cell_type": "markdown",
      "source": [
        "Kill any existing process running"
      ],
      "metadata": {
        "id": "05-LV6mndn3K"
      }
    },
    {
      "cell_type": "code",
      "source": [
        "!kill -9 $(lsof -t -i:5000)\n"
      ],
      "metadata": {
        "id": "1opFJFPWdq96",
        "colab": {
          "base_uri": "https://localhost:8080/"
        },
        "outputId": "63e6eebc-f990-41ec-e512-d3ecc4872f32"
      },
      "execution_count": null,
      "outputs": [
        {
          "output_type": "stream",
          "name": "stdout",
          "text": [
            "kill: usage: kill [-s sigspec | -n signum | -sigspec] pid | jobspec ... or kill -l [sigspec]\n"
          ]
        }
      ]
    },
    {
      "cell_type": "markdown",
      "source": [
        "Check the output of the mcq_server.py upto last 50 lines"
      ],
      "metadata": {
        "id": "O3qMSHXKdtin"
      }
    },
    {
      "cell_type": "code",
      "source": [
        "!tail -n 50 flask_output.log"
      ],
      "metadata": {
        "id": "ss28TImid0Q6",
        "colab": {
          "base_uri": "https://localhost:8080/"
        },
        "outputId": "e051fdd0-6ea5-4e18-8745-9a83e45a794c"
      },
      "execution_count": 7,
      "outputs": [
        {
          "output_type": "stream",
          "name": "stdout",
          "text": [
            "Unrecognized keys in `rope_scaling` for 'rope_type'='llama3': {'name'}\n",
            "✅ Model Loaded Successfully!\n",
            " * Serving Flask app 'mcq_server'\n",
            " * Debug mode: on\n",
            "\u001b[31m\u001b[1mWARNING: This is a development server. Do not use it in a production deployment. Use a production WSGI server instead.\u001b[0m\n",
            " * Running on all addresses (0.0.0.0)\n",
            " * Running on http://127.0.0.1:5000\n",
            " * Running on http://172.28.0.12:5000\n",
            "\u001b[33mPress CTRL+C to quit\u001b[0m\n",
            " * Restarting with stat\n",
            "Unrecognized keys in `rope_scaling` for 'rope_type'='llama3': {'name'}\n",
            " * Debugger is active!\n",
            " * Debugger PIN: 712-022-854\n"
          ]
        }
      ]
    },
    {
      "cell_type": "markdown",
      "source": [
        "Display all the running processes"
      ],
      "metadata": {
        "id": "emiL_-4hqGGR"
      }
    },
    {
      "cell_type": "code",
      "source": [
        "!ps aux | grep python"
      ],
      "metadata": {
        "colab": {
          "base_uri": "https://localhost:8080/"
        },
        "id": "2EfYyTGVs246",
        "outputId": "fdaa4798-6c3a-432c-9339-7d78fbab2e17"
      },
      "execution_count": null,
      "outputs": [
        {
          "output_type": "stream",
          "name": "stdout",
          "text": [
            "root          66  2.2  0.0      0     0 ?        Z    09:45   0:15 [python3] <defunct>\n",
            "root          67  0.0  0.3  63772 50932 ?        S    09:45   0:00 python3 /usr/local/bin/colab-file\n",
            "root         116  0.6  0.9 371152 127768 ?       Sl   09:45   0:04 /usr/bin/python3 /usr/local/bin/j\n",
            "root         197  0.8  0.7 1188216 106032 ?      Ssl  09:46   0:05 /usr/bin/python3 -m colab_kernel_\n",
            "root         232  0.2  0.1 544884 20424 ?        Sl   09:46   0:01 /usr/bin/python3 /usr/local/lib/p\n",
            "root        1365  0.0  0.0  20884 12932 ?        S    09:49   0:00 python3 /opt/google/drive/drive-f\n",
            "root        3468  0.0  0.0   7376  3440 ?        S    09:57   0:00 /bin/bash -c ps aux | grep python\n",
            "root        3470  0.0  0.0   6484  2424 ?        S    09:57   0:00 grep python\n"
          ]
        }
      ]
    },
    {
      "cell_type": "code",
      "source": [
        "!kill -9 1601"
      ],
      "metadata": {
        "id": "JZUyuL6UtV0P"
      },
      "execution_count": null,
      "outputs": []
    },
    {
      "cell_type": "markdown",
      "source": [
        "Display Tensorflow version"
      ],
      "metadata": {
        "id": "Krb1wsNJqLQk"
      }
    },
    {
      "cell_type": "code",
      "source": [
        "import tensorflow as tf\n",
        "print(tf.__version__)\n",
        "print(tf.sysconfig.get_build_info())\n"
      ],
      "metadata": {
        "colab": {
          "base_uri": "https://localhost:8080/"
        },
        "id": "7ipK_zx2uVfb",
        "outputId": "5c1e8028-660b-4f2e-9647-b282cc7dd615"
      },
      "execution_count": null,
      "outputs": [
        {
          "output_type": "stream",
          "name": "stdout",
          "text": [
            "2.18.0\n",
            "OrderedDict([('cpu_compiler', '/usr/lib/llvm-18/bin/clang'), ('cuda_compute_capabilities', ['sm_60', 'sm_70', 'sm_80', 'sm_89', 'compute_90']), ('cuda_version', '12.5.1'), ('cudnn_version', '9'), ('is_cuda_build', True), ('is_rocm_build', False), ('is_tensorrt_build', False)])\n"
          ]
        }
      ]
    },
    {
      "cell_type": "markdown",
      "source": [
        "Unistall tensorflow so the model will efficiently load"
      ],
      "metadata": {
        "id": "ZKm1gMbyqP6w"
      }
    },
    {
      "cell_type": "code",
      "source": [
        "!pip uninstall -y tensorflow tensorflow-gpu"
      ],
      "metadata": {
        "colab": {
          "base_uri": "https://localhost:8080/"
        },
        "id": "h3iSFqFRuqbB",
        "outputId": "74a047c1-abc9-4c46-a4f7-11a12a9d34a1"
      },
      "execution_count": 5,
      "outputs": [
        {
          "output_type": "stream",
          "name": "stdout",
          "text": [
            "Found existing installation: tensorflow 2.18.0\n",
            "Uninstalling tensorflow-2.18.0:\n",
            "  Successfully uninstalled tensorflow-2.18.0\n",
            "\u001b[33mWARNING: Skipping tensorflow-gpu as it is not installed.\u001b[0m\u001b[33m\n",
            "\u001b[0m"
          ]
        }
      ]
    }
  ]
}